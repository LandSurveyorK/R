{
 "cells": [
  {
   "cell_type": "markdown",
   "metadata": {},
   "source": [
    "## Some simple manipulations"
   ]
  },
  {
   "cell_type": "code",
   "execution_count": null,
   "metadata": {},
   "outputs": [],
   "source": [
    "set.seed(01182018)\n",
    "rbinom(n=20, size=10, prob=0.5)\n",
    "bin.draws.0.5 = rbinom(n=200, size=10, prob=0.5)\n",
    "bin.draws.0.5[seq(1,10)]\n",
    "bin.draws.0.5[-275]\n",
    "\n",
    "bin.draws.0.5[7]\n",
    "bin.draws.0.5[2] > bin.draws.0.5[5]\n",
    "equal5 = which(bin.draws.0.5 == 5)\n",
    "length(equal5)\n",
    "summary(bin.draws.0.5)\n",
    "typeof(bin.draws.0.5)\n",
    "bin.draws.0.5.char = as.character(bin.draws.0.5)\n",
    "typeof(bin.draws.0.5.char)\n",
    "summary(bin.draws.0.5.char)"
   ]
  },
  {
   "cell_type": "markdown",
   "metadata": {},
   "source": [
    "## Some simple plots"
   ]
  },
  {
   "cell_type": "code",
   "execution_count": null,
   "metadata": {},
   "outputs": [],
   "source": [
    "plot(bin.draws.0.5)\n",
    "hist(bin.draws.0.5)\n",
    "tabulate(bin.draws.0.5)\n",
    "\n",
    "plot(1:200, bin.draws.0.5)\n",
    "\n"
   ]
  },
  {
   "cell_type": "markdown",
   "metadata": {},
   "source": [
    "## More binomials, more plots"
   ]
  },
  {
   "cell_type": "code",
   "execution_count": null,
   "metadata": {},
   "outputs": [],
   "source": [
    "bin.draws.0.2 = rbinom(n=200, size=12, prob=0.2)\n",
    "mean(bin.draws.0.2)\n",
    "sd(bin.draws.0.2)\n",
    "bin.draws.0.3 = rbinom(n=200, size=12, prob=0.3)\n",
    "bin.draws.0.4 = rbinom(n=200, size=12, prob=0.4)\n",
    "bin.draws.0.5 = rbinom(n=200, size=12, prob=0.5)\n",
    "bin.draws.0.6 = rbinom(n=200, size=12, prob=0.6)\n",
    "bin.draws.0.7 = rbinom(n=200, size=12, prob=0.7)\n",
    "bin.draws.0.8 = rbinom(n=200, size=12, prob=0.8)\n",
    "\n",
    "means = c(mean(bin.draws.0.2),mean(bin.draws.0.3),\n",
    "      mean(bin.draws.0.4),mean(bin.draws.0.5),\n",
    "      mean(bin.draws.0.6),mean(bin.draws.0.7),\n",
    "      mean(bin.draws.0.8))\n",
    "sds = c(sd(bin.draws.0.2),sd(bin.draws.0.3),sd(bin.draws.0.4),sd(bin.draws.0.5),\n",
    "       sd(bin.draws.0.6),sd(bin.draws.0.7),sd(bin.draws.0.8))\n",
    "p = c(0.2,0.3,0.4,0.5,0.6,0.7,0.8)\n",
    "plot(p,means)\n",
    "plot(p,sds)\n",
    "plot(means,sds)"
   ]
  },
  {
   "cell_type": "markdown",
   "metadata": {},
   "source": [
    "## Working with matrices"
   ]
  },
  {
   "cell_type": "code",
   "execution_count": null,
   "metadata": {},
   "outputs": [],
   "source": [
    "bin.matrix = cbind(bin.draws.0.2 ,bin.draws.0.3,bin.draws.0.4,\n",
    "                   bin.draws.0.5,bin.draws.0.6,\n",
    "                  bin.draws.0.7,bin.draws.0.8)\n",
    "bin.matrix[c(1,2,3),]\n",
    "bin.matrix[77,6]\n",
    "\n",
    "max(bin.matrix[,1])\n",
    "max(bin.matrix[,1][-1])\n",
    "colMeans(bin.matrix)\n",
    "identical(colMeans(bin.matrix), means)\n",
    "all.equal(colMeans(bin.matrix), means)\n",
    "\n",
    "t(bin.matrix)\n",
    "rowMeans(t(bin.matrix))\n"
   ]
  },
  {
   "cell_type": "markdown",
   "metadata": {},
   "source": [
    "## Warnup up  is over, let's go big"
   ]
  },
  {
   "cell_type": "code",
   "execution_count": null,
   "metadata": {},
   "outputs": [],
   "source": [
    "big.bin.draws = rbinom(n=2*10^6, size=10^6, prob=0.5)\n",
    "mean = mean(big.bin.draws )\n",
    "sd = sd(big.bin.draws )\n",
    "\n",
    "big.bin.draws.standardized = ((big.bin.draws - mean)/sd)\n",
    "mean(big.bin.draws.standardized)\n",
    "sd(big.bin.draws.standardized)\n",
    "\n",
    "hist(big.bin.draws.standardized, breaks=100)\n",
    " 1 - pnorm(1.644854,0,1)"
   ]
  },
  {
   "cell_type": "markdown",
   "metadata": {},
   "source": [
    "## Now let'ts go really big"
   ]
  },
  {
   "cell_type": "code",
   "execution_count": null,
   "metadata": {},
   "outputs": [],
   "source": [
    "huge.bin.draws = rbinom(n=10^8, size=10^7,50*10^(-8))"
   ]
  },
  {
   "cell_type": "code",
   "execution_count": null,
   "metadata": {},
   "outputs": [],
   "source": [
    "mean(huge.bin.draws)\n",
    "sd(huge.bin.draws)"
   ]
  },
  {
   "cell_type": "code",
   "execution_count": null,
   "metadata": {
    "collapsed": true
   },
   "outputs": [],
   "source": [
    "# exp^(median(log(huge.bin.draws)))"
   ]
  },
  {
   "cell_type": "code",
   "execution_count": null,
   "metadata": {
    "collapsed": true
   },
   "outputs": [],
   "source": [
    "big.bin.draws.list = as.list(big.bin.draws)\n",
    "class(big.bin.draws.list)\n",
    "length(big.bin.draws.list)"
   ]
  },
  {
   "cell_type": "code",
   "execution_count": null,
   "metadata": {
    "collapsed": true
   },
   "outputs": [],
   "source": [
    "big.bin.draws.mean = mean(big.bin.draws)\n",
    "big.bin.draws.sd = sd(big.bin.draws)\n",
    "standardize = function(x) {\n",
    "  return((x - big.bin.draws.mean) / big.bin.draws.sd)\n",
    "}\n",
    "big.bin.draws.list.standardized.slow = lapply(big.bin.draws.list, standardize)"
   ]
  },
  {
   "cell_type": "code",
   "execution_count": null,
   "metadata": {
    "collapsed": true
   },
   "outputs": [],
   "source": [
    "big.bin.draws.mean = mean(big.bin.draws)\n",
    "big.bin.draws.sd = sd(big.bin.draws)\n",
    "standardize.slow = function(x) {\n",
    "  return((x - mean(big.bin.draws)) / sd(big.bin.draws))\n",
    "}\n",
    "big.bin.draws.list.standardized.slow = lapply(big.bin.draws.list, standardize)"
   ]
  },
  {
   "cell_type": "code",
   "execution_count": null,
   "metadata": {
    "collapsed": true
   },
   "outputs": [],
   "source": [
    "object.size(big.bin.draws)\n",
    "object.size(big.bin.draws.list)\n",
    "\n",
    "\n"
   ]
  },
  {
   "cell_type": "code",
   "execution_count": null,
   "metadata": {
    "collapsed": true
   },
   "outputs": [],
   "source": []
  }
 ],
 "metadata": {
  "kernelspec": {
   "display_name": "R",
   "language": "R",
   "name": "ir"
  },
  "language_info": {
   "codemirror_mode": "r",
   "file_extension": ".r",
   "mimetype": "text/x-r-source",
   "name": "R",
   "pygments_lexer": "r",
   "version": "3.4.1"
  }
 },
 "nbformat": 4,
 "nbformat_minor": 2
}
