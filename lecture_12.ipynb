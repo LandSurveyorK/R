{
 "cells": [
  {
   "cell_type": "markdown",
   "metadata": {},
   "source": [
    "## Vector"
   ]
  },
  {
   "cell_type": "code",
   "execution_count": null,
   "metadata": {
    "collapsed": true
   },
   "outputs": [],
   "source": [
    "x = c(7, 8, 10, 45)\n",
    "is.vector(x)\n",
    "weekly.hours = vector(length = 5)\n",
    "weekly.hours\n",
    "weekly.hours[5] = 8\n",
    "weekly.hours\n",
    "\n",
    "y = c(-7, -8, -10, -45)\n",
    "x + y\n",
    "x^c(1,0,-1,0.5)\n",
    "2 * x\n",
    "x > 9\n",
    "(x>9) & (x<20)\n",
    "x == -y\n",
    "identical(x,-y)\n",
    "identical(c(0.5-0.3,0.3-0.1), c(0.3-0.1,0.5-0.3))\n",
    "all.equal(c(0.5-0.3,0.3-0.1), c(0.3-0.1,0.5-0.3))"
   ]
  },
  {
   "cell_type": "markdown",
   "metadata": {},
   "source": [
    "##### Indexing vectors"
   ]
  },
  {
   "cell_type": "code",
   "execution_count": 27,
   "metadata": {},
   "outputs": [
    {
     "data": {
      "text/html": [
       "<ol class=list-inline>\n",
       "\t<li>7</li>\n",
       "\t<li>8</li>\n",
       "\t<li>10</li>\n",
       "\t<li>45</li>\n",
       "</ol>\n"
      ],
      "text/latex": [
       "\\begin{enumerate*}\n",
       "\\item 7\n",
       "\\item 8\n",
       "\\item 10\n",
       "\\item 45\n",
       "\\end{enumerate*}\n"
      ],
      "text/markdown": [
       "1. 7\n",
       "2. 8\n",
       "3. 10\n",
       "4. 45\n",
       "\n",
       "\n"
      ],
      "text/plain": [
       "[1]  7  8 10 45"
      ]
     },
     "metadata": {},
     "output_type": "display_data"
    },
    {
     "data": {
      "text/html": [
       "<ol class=list-inline>\n",
       "\t<li>8</li>\n",
       "\t<li>45</li>\n",
       "</ol>\n"
      ],
      "text/latex": [
       "\\begin{enumerate*}\n",
       "\\item 8\n",
       "\\item 45\n",
       "\\end{enumerate*}\n"
      ],
      "text/markdown": [
       "1. 8\n",
       "2. 45\n",
       "\n",
       "\n"
      ],
      "text/plain": [
       "[1]  8 45"
      ]
     },
     "metadata": {},
     "output_type": "display_data"
    },
    {
     "data": {
      "text/html": [
       "<ol class=list-inline>\n",
       "\t<li>8</li>\n",
       "\t<li>45</li>\n",
       "</ol>\n"
      ],
      "text/latex": [
       "\\begin{enumerate*}\n",
       "\\item 8\n",
       "\\item 45\n",
       "\\end{enumerate*}\n"
      ],
      "text/markdown": [
       "1. 8\n",
       "2. 45\n",
       "\n",
       "\n"
      ],
      "text/plain": [
       "[1]  8 45"
      ]
     },
     "metadata": {},
     "output_type": "display_data"
    },
    {
     "data": {
      "text/html": [
       "<ol class=list-inline>\n",
       "\t<li>10</li>\n",
       "\t<li>45</li>\n",
       "</ol>\n"
      ],
      "text/latex": [
       "\\begin{enumerate*}\n",
       "\\item 10\n",
       "\\item 45\n",
       "\\end{enumerate*}\n"
      ],
      "text/markdown": [
       "1. 10\n",
       "2. 45\n",
       "\n",
       "\n"
      ],
      "text/plain": [
       "[1] 10 45"
      ]
     },
     "metadata": {},
     "output_type": "display_data"
    },
    {
     "data": {
      "text/html": [
       "<ol class=list-inline>\n",
       "\t<li>-10</li>\n",
       "\t<li>-45</li>\n",
       "</ol>\n"
      ],
      "text/latex": [
       "\\begin{enumerate*}\n",
       "\\item -10\n",
       "\\item -45\n",
       "\\end{enumerate*}\n"
      ],
      "text/markdown": [
       "1. -10\n",
       "2. -45\n",
       "\n",
       "\n"
      ],
      "text/plain": [
       "[1] -10 -45"
      ]
     },
     "metadata": {},
     "output_type": "display_data"
    },
    {
     "data": {
      "text/html": [
       "<ol class=list-inline>\n",
       "\t<li>3</li>\n",
       "\t<li>4</li>\n",
       "</ol>\n"
      ],
      "text/latex": [
       "\\begin{enumerate*}\n",
       "\\item 3\n",
       "\\item 4\n",
       "\\end{enumerate*}\n"
      ],
      "text/markdown": [
       "1. 3\n",
       "2. 4\n",
       "\n",
       "\n"
      ],
      "text/plain": [
       "[1] 3 4"
      ]
     },
     "metadata": {},
     "output_type": "display_data"
    }
   ],
   "source": [
    "x\n",
    "x[c(2,4)]\n",
    "x[c(-1,-3)]\n",
    "x[x > 9]\n",
    "y[ x > 9]\n",
    "place = which(x > 9)\n",
    "place"
   ]
  },
  {
   "cell_type": "markdown",
   "metadata": {},
   "source": [
    "#### Named components"
   ]
  },
  {
   "cell_type": "code",
   "execution_count": 32,
   "metadata": {},
   "outputs": [
    {
     "data": {
      "text/html": [
       "<ol class=list-inline>\n",
       "\t<li>'v1'</li>\n",
       "\t<li>'v2'</li>\n",
       "\t<li>'v3'</li>\n",
       "\t<li>'fred'</li>\n",
       "</ol>\n"
      ],
      "text/latex": [
       "\\begin{enumerate*}\n",
       "\\item 'v1'\n",
       "\\item 'v2'\n",
       "\\item 'v3'\n",
       "\\item 'fred'\n",
       "\\end{enumerate*}\n"
      ],
      "text/markdown": [
       "1. 'v1'\n",
       "2. 'v2'\n",
       "3. 'v3'\n",
       "4. 'fred'\n",
       "\n",
       "\n"
      ],
      "text/plain": [
       "[1] \"v1\"   \"v2\"   \"v3\"   \"fred\""
      ]
     },
     "metadata": {},
     "output_type": "display_data"
    },
    {
     "data": {
      "text/html": [
       "<dl class=dl-horizontal>\n",
       "\t<dt>fred</dt>\n",
       "\t\t<dd>45</dd>\n",
       "\t<dt>v1</dt>\n",
       "\t\t<dd>7</dd>\n",
       "</dl>\n"
      ],
      "text/latex": [
       "\\begin{description*}\n",
       "\\item[fred] 45\n",
       "\\item[v1] 7\n",
       "\\end{description*}\n"
      ],
      "text/markdown": [
       "fred\n",
       ":   45v1\n",
       ":   7\n",
       "\n"
      ],
      "text/plain": [
       "fred   v1 \n",
       "  45    7 "
      ]
     },
     "metadata": {},
     "output_type": "display_data"
    },
    {
     "data": {
      "text/html": [
       "<ol class=list-inline>\n",
       "\t<li>'fred'</li>\n",
       "\t<li>'v1'</li>\n",
       "\t<li>'v2'</li>\n",
       "\t<li>'v3'</li>\n",
       "</ol>\n"
      ],
      "text/latex": [
       "\\begin{enumerate*}\n",
       "\\item 'fred'\n",
       "\\item 'v1'\n",
       "\\item 'v2'\n",
       "\\item 'v3'\n",
       "\\end{enumerate*}\n"
      ],
      "text/markdown": [
       "1. 'fred'\n",
       "2. 'v1'\n",
       "3. 'v2'\n",
       "4. 'v3'\n",
       "\n",
       "\n"
      ],
      "text/plain": [
       "[1] \"fred\" \"v1\"   \"v2\"   \"v3\"  "
      ]
     },
     "metadata": {},
     "output_type": "display_data"
    },
    {
     "data": {
      "text/html": [
       "4"
      ],
      "text/latex": [
       "4"
      ],
      "text/markdown": [
       "4"
      ],
      "text/plain": [
       "[1] 4"
      ]
     },
     "metadata": {},
     "output_type": "display_data"
    }
   ],
   "source": [
    "names(x)  = c(\"v1\",\"v2\",\"v3\",\"fred\")\n",
    "names(x)\n",
    "x[c(\"fred\",\"v1\")]\n",
    "names(y) = names(x)\n",
    "sort(names(x))\n",
    "which(names(x) == \"fred\")\n"
   ]
  },
  {
   "cell_type": "markdown",
   "metadata": {},
   "source": [
    "## Arrays"
   ]
  },
  {
   "cell_type": "code",
   "execution_count": null,
   "metadata": {},
   "outputs": [],
   "source": [
    "x  = c(7,8,10,45)\n",
    "x.arr = array(x, dim = c(2,2))\n",
    "x.arr\n",
    "dim(x.arr)\n",
    "is.vector(x.arr)\n",
    "is.array(x.arr)\n",
    "typeof(x.arr)"
   ]
  },
  {
   "cell_type": "markdown",
   "metadata": {},
   "source": [
    "#### Indexing arrays"
   ]
  },
  {
   "cell_type": "code",
   "execution_count": null,
   "metadata": {},
   "outputs": [],
   "source": [
    "x.arr[1,2]\n",
    "x.arr[3]\n",
    "x.arr[c(1,2),2]\n",
    "x.arr[,2]\n",
    "x.arr[,2,drop = FALSE]"
   ]
  },
  {
   "cell_type": "markdown",
   "metadata": {},
   "source": [
    "## Functions on arrays"
   ]
  },
  {
   "cell_type": "code",
   "execution_count": 53,
   "metadata": {},
   "outputs": [
    {
     "data": {
      "text/html": [
       "<ol class=list-inline>\n",
       "\t<li>3</li>\n",
       "\t<li>4</li>\n",
       "</ol>\n"
      ],
      "text/latex": [
       "\\begin{enumerate*}\n",
       "\\item 3\n",
       "\\item 4\n",
       "\\end{enumerate*}\n"
      ],
      "text/markdown": [
       "1. 3\n",
       "2. 4\n",
       "\n",
       "\n"
      ],
      "text/plain": [
       "[1] 3 4"
      ]
     },
     "metadata": {},
     "output_type": "display_data"
    },
    {
     "data": {
      "text/html": [
       "<table>\n",
       "<tbody>\n",
       "\t<tr><td>0</td><td>0</td></tr>\n",
       "\t<tr><td>0</td><td>0</td></tr>\n",
       "</tbody>\n",
       "</table>\n"
      ],
      "text/latex": [
       "\\begin{tabular}{ll}\n",
       "\t 0 & 0\\\\\n",
       "\t 0 & 0\\\\\n",
       "\\end{tabular}\n"
      ],
      "text/markdown": [
       "\n",
       "| 0 | 0 | \n",
       "| 0 | 0 | \n",
       "\n",
       "\n"
      ],
      "text/plain": [
       "     [,1] [,2]\n",
       "[1,] 0    0   \n",
       "[2,] 0    0   "
      ]
     },
     "metadata": {},
     "output_type": "display_data"
    },
    {
     "data": {
      "text/html": [
       "<ol class=list-inline>\n",
       "\t<li>17</li>\n",
       "\t<li>53</li>\n",
       "</ol>\n"
      ],
      "text/latex": [
       "\\begin{enumerate*}\n",
       "\\item 17\n",
       "\\item 53\n",
       "\\end{enumerate*}\n"
      ],
      "text/markdown": [
       "1. 17\n",
       "2. 53\n",
       "\n",
       "\n"
      ],
      "text/plain": [
       "[1] 17 53"
      ]
     },
     "metadata": {},
     "output_type": "display_data"
    },
    {
     "data": {
      "text/html": [
       "<ol class=list-inline>\n",
       "\t<li>15</li>\n",
       "\t<li>55</li>\n",
       "</ol>\n"
      ],
      "text/latex": [
       "\\begin{enumerate*}\n",
       "\\item 15\n",
       "\\item 55\n",
       "\\end{enumerate*}\n"
      ],
      "text/markdown": [
       "1. 15\n",
       "2. 55\n",
       "\n",
       "\n"
      ],
      "text/plain": [
       "[1] 15 55"
      ]
     },
     "metadata": {},
     "output_type": "display_data"
    }
   ],
   "source": [
    "which(x.arr > 9)\n",
    "y = -x\n",
    "y.arr = array(y,dim=c(2,2))\n",
    "y.arr + x.arr\n",
    "rowSums(x.arr)\n",
    "colSums(x.arr)"
   ]
  },
  {
   "cell_type": "markdown",
   "metadata": {},
   "source": [
    "## 2d arrays: matrices"
   ]
  },
  {
   "cell_type": "code",
   "execution_count": 88,
   "metadata": {},
   "outputs": [
    {
     "data": {
      "text/html": [
       "<table>\n",
       "<tbody>\n",
       "\t<tr><td>40</td><td>60</td></tr>\n",
       "\t<tr><td> 1</td><td> 3</td></tr>\n",
       "</tbody>\n",
       "</table>\n"
      ],
      "text/latex": [
       "\\begin{tabular}{ll}\n",
       "\t 40 & 60\\\\\n",
       "\t  1 &  3\\\\\n",
       "\\end{tabular}\n"
      ],
      "text/markdown": [
       "\n",
       "| 40 | 60 | \n",
       "|  1 |  3 | \n",
       "\n",
       "\n"
      ],
      "text/plain": [
       "     [,1] [,2]\n",
       "[1,] 40   60  \n",
       "[2,]  1    3  "
      ]
     },
     "metadata": {},
     "output_type": "display_data"
    },
    {
     "data": {
      "text/html": [
       "<table>\n",
       "<tbody>\n",
       "\t<tr><td>40</td><td>1 </td></tr>\n",
       "\t<tr><td>60</td><td>3 </td></tr>\n",
       "</tbody>\n",
       "</table>\n"
      ],
      "text/latex": [
       "\\begin{tabular}{ll}\n",
       "\t 40 & 1 \\\\\n",
       "\t 60 & 3 \\\\\n",
       "\\end{tabular}\n"
      ],
      "text/markdown": [
       "\n",
       "| 40 | 1  | \n",
       "| 60 | 3  | \n",
       "\n",
       "\n"
      ],
      "text/plain": [
       "     [,1] [,2]\n",
       "[1,] 40   1   \n",
       "[2,] 60   3   "
      ]
     },
     "metadata": {},
     "output_type": "display_data"
    },
    {
     "data": {
      "text/html": [
       "TRUE"
      ],
      "text/latex": [
       "TRUE"
      ],
      "text/markdown": [
       "TRUE"
      ],
      "text/plain": [
       "[1] TRUE"
      ]
     },
     "metadata": {},
     "output_type": "display_data"
    },
    {
     "data": {
      "text/html": [
       "TRUE"
      ],
      "text/latex": [
       "TRUE"
      ],
      "text/markdown": [
       "TRUE"
      ],
      "text/plain": [
       "[1] TRUE"
      ]
     },
     "metadata": {},
     "output_type": "display_data"
    }
   ],
   "source": [
    "z.mat = matrix(c(40,1,60,3), nrow= 2)\n",
    "zz.mat = matrix(c(40,1,60,3), nrow = 2, byrow = TRUE)\n",
    "z.mat\n",
    "zz.mat\n",
    "is.array(z.mat)\n",
    "is.matrix(z.mat)"
   ]
  },
  {
   "cell_type": "markdown",
   "metadata": {},
   "source": [
    "#### Matrix multiplication"
   ]
  },
  {
   "cell_type": "code",
   "execution_count": 68,
   "metadata": {},
   "outputs": [
    {
     "data": {
      "text/html": [
       "<table>\n",
       "<tbody>\n",
       "\t<tr><td>7</td><td>7</td><td>7</td></tr>\n",
       "\t<tr><td>7</td><td>7</td><td>7</td></tr>\n",
       "</tbody>\n",
       "</table>\n"
      ],
      "text/latex": [
       "\\begin{tabular}{lll}\n",
       "\t 7 & 7 & 7\\\\\n",
       "\t 7 & 7 & 7\\\\\n",
       "\\end{tabular}\n"
      ],
      "text/markdown": [
       "\n",
       "| 7 | 7 | 7 | \n",
       "| 7 | 7 | 7 | \n",
       "\n",
       "\n"
      ],
      "text/plain": [
       "     [,1] [,2] [,3]\n",
       "[1,] 7    7    7   \n",
       "[2,] 7    7    7   "
      ]
     },
     "metadata": {},
     "output_type": "display_data"
    },
    {
     "data": {
      "text/html": [
       "<table>\n",
       "<tbody>\n",
       "\t<tr><td>700</td><td>700</td><td>700</td></tr>\n",
       "\t<tr><td> 28</td><td> 28</td><td> 28</td></tr>\n",
       "</tbody>\n",
       "</table>\n"
      ],
      "text/latex": [
       "\\begin{tabular}{lll}\n",
       "\t 700 & 700 & 700\\\\\n",
       "\t  28 &  28 &  28\\\\\n",
       "\\end{tabular}\n"
      ],
      "text/markdown": [
       "\n",
       "| 700 | 700 | 700 | \n",
       "|  28 |  28 |  28 | \n",
       "\n",
       "\n"
      ],
      "text/plain": [
       "     [,1] [,2] [,3]\n",
       "[1,] 700  700  700 \n",
       "[2,]  28   28   28 "
      ]
     },
     "metadata": {},
     "output_type": "display_data"
    }
   ],
   "source": [
    "six.sevens = matrix(rep(7,6),ncol = 3)\n",
    "six.sevens\n",
    "z.mat %*% six.sevens"
   ]
  },
  {
   "cell_type": "markdown",
   "metadata": {},
   "source": [
    "## Multiplying matrices and vectors"
   ]
  },
  {
   "cell_type": "code",
   "execution_count": 89,
   "metadata": {},
   "outputs": [
    {
     "data": {
      "text/html": [
       "<table>\n",
       "<tbody>\n",
       "\t<tr><td>1600</td></tr>\n",
       "\t<tr><td>  70</td></tr>\n",
       "</tbody>\n",
       "</table>\n"
      ],
      "text/latex": [
       "\\begin{tabular}{l}\n",
       "\t 1600\\\\\n",
       "\t   70\\\\\n",
       "\\end{tabular}\n"
      ],
      "text/markdown": [
       "\n",
       "| 1600 | \n",
       "|   70 | \n",
       "\n",
       "\n"
      ],
      "text/plain": [
       "     [,1]\n",
       "[1,] 1600\n",
       "[2,]   70"
      ]
     },
     "metadata": {},
     "output_type": "display_data"
    },
    {
     "data": {
      "text/html": [
       "<table>\n",
       "<tbody>\n",
       "\t<tr><td>420</td><td>660</td></tr>\n",
       "</tbody>\n",
       "</table>\n"
      ],
      "text/latex": [
       "\\begin{tabular}{ll}\n",
       "\t 420 & 660\\\\\n",
       "\\end{tabular}\n"
      ],
      "text/markdown": [
       "\n",
       "| 420 | 660 | \n",
       "\n",
       "\n"
      ],
      "text/plain": [
       "     [,1] [,2]\n",
       "[1,] 420  660 "
      ]
     },
     "metadata": {},
     "output_type": "display_data"
    },
    {
     "data": {
      "text/html": [
       "<table>\n",
       "<tbody>\n",
       "\t<tr><td>40</td><td>1 </td></tr>\n",
       "\t<tr><td>60</td><td>3 </td></tr>\n",
       "</tbody>\n",
       "</table>\n"
      ],
      "text/latex": [
       "\\begin{tabular}{ll}\n",
       "\t 40 & 1 \\\\\n",
       "\t 60 & 3 \\\\\n",
       "\\end{tabular}\n"
      ],
      "text/markdown": [
       "\n",
       "| 40 | 1  | \n",
       "| 60 | 3  | \n",
       "\n",
       "\n"
      ],
      "text/plain": [
       "     [,1] [,2]\n",
       "[1,] 40   1   \n",
       "[2,] 60   3   "
      ]
     },
     "metadata": {},
     "output_type": "display_data"
    },
    {
     "data": {
      "text/html": [
       "60"
      ],
      "text/latex": [
       "60"
      ],
      "text/markdown": [
       "60"
      ],
      "text/plain": [
       "[1] 60"
      ]
     },
     "metadata": {},
     "output_type": "display_data"
    },
    {
     "data": {
      "text/html": [
       "<ol class=list-inline>\n",
       "\t<li>40</li>\n",
       "\t<li>3</li>\n",
       "</ol>\n"
      ],
      "text/latex": [
       "\\begin{enumerate*}\n",
       "\\item 40\n",
       "\\item 3\n",
       "\\end{enumerate*}\n"
      ],
      "text/markdown": [
       "1. 40\n",
       "2. 3\n",
       "\n",
       "\n"
      ],
      "text/plain": [
       "[1] 40  3"
      ]
     },
     "metadata": {},
     "output_type": "display_data"
    },
    {
     "data": {
      "text/html": [
       "<table>\n",
       "<tbody>\n",
       "\t<tr><td>35</td><td>60</td></tr>\n",
       "\t<tr><td> 1</td><td> 4</td></tr>\n",
       "</tbody>\n",
       "</table>\n"
      ],
      "text/latex": [
       "\\begin{tabular}{ll}\n",
       "\t 35 & 60\\\\\n",
       "\t  1 &  4\\\\\n",
       "\\end{tabular}\n"
      ],
      "text/markdown": [
       "\n",
       "| 35 | 60 | \n",
       "|  1 |  4 | \n",
       "\n",
       "\n"
      ],
      "text/plain": [
       "     [,1] [,2]\n",
       "[1,] 35   60  \n",
       "[2,]  1    4  "
      ]
     },
     "metadata": {},
     "output_type": "display_data"
    },
    {
     "data": {
      "text/html": [
       "<table>\n",
       "<tbody>\n",
       "\t<tr><td>3</td><td>0</td></tr>\n",
       "\t<tr><td>0</td><td>4</td></tr>\n",
       "</tbody>\n",
       "</table>\n"
      ],
      "text/latex": [
       "\\begin{tabular}{ll}\n",
       "\t 3 & 0\\\\\n",
       "\t 0 & 4\\\\\n",
       "\\end{tabular}\n"
      ],
      "text/markdown": [
       "\n",
       "| 3 | 0 | \n",
       "| 0 | 4 | \n",
       "\n",
       "\n"
      ],
      "text/plain": [
       "     [,1] [,2]\n",
       "[1,] 3    0   \n",
       "[2,] 0    4   "
      ]
     },
     "metadata": {},
     "output_type": "display_data"
    },
    {
     "data": {
      "text/html": [
       "<table>\n",
       "<tbody>\n",
       "\t<tr><td>1</td><td>0</td></tr>\n",
       "\t<tr><td>0</td><td>1</td></tr>\n",
       "</tbody>\n",
       "</table>\n"
      ],
      "text/latex": [
       "\\begin{tabular}{ll}\n",
       "\t 1 & 0\\\\\n",
       "\t 0 & 1\\\\\n",
       "\\end{tabular}\n"
      ],
      "text/markdown": [
       "\n",
       "| 1 | 0 | \n",
       "| 0 | 1 | \n",
       "\n",
       "\n"
      ],
      "text/plain": [
       "     [,1] [,2]\n",
       "[1,] 1    0   \n",
       "[2,] 0    1   "
      ]
     },
     "metadata": {},
     "output_type": "display_data"
    },
    {
     "data": {
      "text/html": [
       "<table>\n",
       "<tbody>\n",
       "\t<tr><td> 0.0500</td><td>-0.7500</td></tr>\n",
       "\t<tr><td>-0.0125</td><td> 0.4375</td></tr>\n",
       "</tbody>\n",
       "</table>\n"
      ],
      "text/latex": [
       "\\begin{tabular}{ll}\n",
       "\t  0.0500 & -0.7500\\\\\n",
       "\t -0.0125 &  0.4375\\\\\n",
       "\\end{tabular}\n"
      ],
      "text/markdown": [
       "\n",
       "|  0.0500 | -0.7500 | \n",
       "| -0.0125 |  0.4375 | \n",
       "\n",
       "\n"
      ],
      "text/plain": [
       "     [,1]    [,2]   \n",
       "[1,]  0.0500 -0.7500\n",
       "[2,] -0.0125  0.4375"
      ]
     },
     "metadata": {},
     "output_type": "display_data"
    },
    {
     "data": {
      "text/html": [
       "<table>\n",
       "<tbody>\n",
       "\t<tr><td>1</td><td>0</td></tr>\n",
       "\t<tr><td>0</td><td>1</td></tr>\n",
       "</tbody>\n",
       "</table>\n"
      ],
      "text/latex": [
       "\\begin{tabular}{ll}\n",
       "\t 1 & 0\\\\\n",
       "\t 0 & 1\\\\\n",
       "\\end{tabular}\n"
      ],
      "text/markdown": [
       "\n",
       "| 1 | 0 | \n",
       "| 0 | 1 | \n",
       "\n",
       "\n"
      ],
      "text/plain": [
       "     [,1] [,2]\n",
       "[1,] 1    0   \n",
       "[2,] 0    1   "
      ]
     },
     "metadata": {},
     "output_type": "display_data"
    }
   ],
   "source": [
    "a.vec = c(10,20)\n",
    "z.mat %*% a.vec\n",
    "a.vec %*% z.mat\n",
    "\n",
    "\n",
    "t(z.mat)\n",
    "det(z.mat)\n",
    "diag(z.mat)\n",
    "diag(z.mat) = c(35,4)\n",
    "z.mat\n",
    "\n",
    "diag(c(3,4))\n",
    "diag(2)\n",
    "\n",
    "solve(z.mat)\n",
    "z.mat %*% solve(z.mat)\n"
   ]
  },
  {
   "cell_type": "markdown",
   "metadata": {},
   "source": [
    "## Lists"
   ]
  },
  {
   "cell_type": "code",
   "execution_count": 91,
   "metadata": {},
   "outputs": [
    {
     "data": {
      "text/html": [
       "<ol>\n",
       "\t<li>'exponential'</li>\n",
       "\t<li>7</li>\n",
       "\t<li>FALSE</li>\n",
       "</ol>\n"
      ],
      "text/latex": [
       "\\begin{enumerate}\n",
       "\\item 'exponential'\n",
       "\\item 7\n",
       "\\item FALSE\n",
       "\\end{enumerate}\n"
      ],
      "text/markdown": [
       "1. 'exponential'\n",
       "2. 7\n",
       "3. FALSE\n",
       "\n",
       "\n"
      ],
      "text/plain": [
       "[[1]]\n",
       "[1] \"exponential\"\n",
       "\n",
       "[[2]]\n",
       "[1] 7\n",
       "\n",
       "[[3]]\n",
       "[1] FALSE\n"
      ]
     },
     "metadata": {},
     "output_type": "display_data"
    }
   ],
   "source": [
    "my.list = list(\"exponential\", 7, FALSE)\n",
    "my.list"
   ]
  },
  {
   "cell_type": "markdown",
   "metadata": {},
   "source": [
    "#### Accessing pieces of lists"
   ]
  },
  {
   "cell_type": "code",
   "execution_count": 112,
   "metadata": {},
   "outputs": [
    {
     "data": {
      "text/html": [
       "<strong>$family</strong> = 'exponential'"
      ],
      "text/latex": [
       "\\textbf{\\$family} = 'exponential'"
      ],
      "text/markdown": [
       "**$family** = 'exponential'"
      ],
      "text/plain": [
       "$family\n",
       "[1] \"exponential\"\n"
      ]
     },
     "metadata": {},
     "output_type": "display_data"
    },
    {
     "data": {
      "text/plain": [
       "$family\n",
       "[1] \"exponential\"\n",
       "\n",
       "$mean\n",
       "[1] 7\n",
       "\n",
       "$is.symmetric\n",
       "[1] FALSE\n",
       "\n",
       "$was.estimated\n",
       "[1] FALSE\n",
       "\n",
       "$last.updated\n",
       "[1] \"2015-09,01\"\n",
       "\n",
       "[[6]]\n",
       "[1] 9\n"
      ]
     },
     "metadata": {},
     "output_type": "display_data"
    },
    {
     "data": {
      "text/html": [
       "6"
      ],
      "text/latex": [
       "6"
      ],
      "text/markdown": [
       "6"
      ],
      "text/plain": [
       "[1] 6"
      ]
     },
     "metadata": {},
     "output_type": "display_data"
    },
    {
     "data": {
      "text/html": [
       "<dl>\n",
       "\t<dt>$family</dt>\n",
       "\t\t<dd>'exponential'</dd>\n",
       "\t<dt>$mean</dt>\n",
       "\t\t<dd>7</dd>\n",
       "\t<dt>$is.symmetric</dt>\n",
       "\t\t<dd>FALSE</dd>\n",
       "</dl>\n"
      ],
      "text/latex": [
       "\\begin{description}\n",
       "\\item[\\$family] 'exponential'\n",
       "\\item[\\$mean] 7\n",
       "\\item[\\$is.symmetric] FALSE\n",
       "\\end{description}\n"
      ],
      "text/markdown": [
       "$family\n",
       ":   'exponential'\n",
       "$mean\n",
       ":   7\n",
       "$is.symmetric\n",
       ":   FALSE\n",
       "\n",
       "\n"
      ],
      "text/plain": [
       "$family\n",
       "[1] \"exponential\"\n",
       "\n",
       "$mean\n",
       "[1] 7\n",
       "\n",
       "$is.symmetric\n",
       "[1] FALSE\n"
      ]
     },
     "metadata": {},
     "output_type": "display_data"
    },
    {
     "data": {
      "text/html": [
       "<strong>$family</strong> = 'exponential'"
      ],
      "text/latex": [
       "\\textbf{\\$family} = 'exponential'"
      ],
      "text/markdown": [
       "**$family** = 'exponential'"
      ],
      "text/plain": [
       "$family\n",
       "[1] \"exponential\"\n"
      ]
     },
     "metadata": {},
     "output_type": "display_data"
    },
    {
     "data": {
      "text/html": [
       "'exponential'"
      ],
      "text/latex": [
       "'exponential'"
      ],
      "text/markdown": [
       "'exponential'"
      ],
      "text/plain": [
       "[1] \"exponential\""
      ]
     },
     "metadata": {},
     "output_type": "display_data"
    },
    {
     "data": {
      "text/html": [
       "<dl>\n",
       "\t<dt>$family</dt>\n",
       "\t\t<dd>'exponential'</dd>\n",
       "\t<dt>$mean</dt>\n",
       "\t\t<dd>7</dd>\n",
       "\t<dt>$is.symmetric</dt>\n",
       "\t\t<dd>FALSE</dd>\n",
       "\t<dt>$was.estimated</dt>\n",
       "\t\t<dd>FALSE</dd>\n",
       "\t<dt>$last.updated</dt>\n",
       "\t\t<dd>'2015-09,01'</dd>\n",
       "</dl>\n"
      ],
      "text/latex": [
       "\\begin{description}\n",
       "\\item[\\$family] 'exponential'\n",
       "\\item[\\$mean] 7\n",
       "\\item[\\$is.symmetric] FALSE\n",
       "\\item[\\$was.estimated] FALSE\n",
       "\\item[\\$last.updated] '2015-09,01'\n",
       "\\end{description}\n"
      ],
      "text/markdown": [
       "$family\n",
       ":   'exponential'\n",
       "$mean\n",
       ":   7\n",
       "$is.symmetric\n",
       ":   FALSE\n",
       "$was.estimated\n",
       ":   FALSE\n",
       "$last.updated\n",
       ":   '2015-09,01'\n",
       "\n",
       "\n"
      ],
      "text/plain": [
       "$family\n",
       "[1] \"exponential\"\n",
       "\n",
       "$mean\n",
       "[1] 7\n",
       "\n",
       "$is.symmetric\n",
       "[1] FALSE\n",
       "\n",
       "$was.estimated\n",
       "[1] FALSE\n",
       "\n",
       "$last.updated\n",
       "[1] \"2015-09,01\"\n"
      ]
     },
     "metadata": {},
     "output_type": "display_data"
    },
    {
     "data": {
      "text/html": [
       "<dl>\n",
       "\t<dt>$family</dt>\n",
       "\t\t<dd>'exponential'</dd>\n",
       "\t<dt>$mean</dt>\n",
       "\t\t<dd>7</dd>\n",
       "\t<dt>$is.symmetric</dt>\n",
       "\t\t<dd>FALSE</dd>\n",
       "\t<dt>$last.updated</dt>\n",
       "\t\t<dd>'2015-09,01'</dd>\n",
       "</dl>\n"
      ],
      "text/latex": [
       "\\begin{description}\n",
       "\\item[\\$family] 'exponential'\n",
       "\\item[\\$mean] 7\n",
       "\\item[\\$is.symmetric] FALSE\n",
       "\\item[\\$last.updated] '2015-09,01'\n",
       "\\end{description}\n"
      ],
      "text/markdown": [
       "$family\n",
       ":   'exponential'\n",
       "$mean\n",
       ":   7\n",
       "$is.symmetric\n",
       ":   FALSE\n",
       "$last.updated\n",
       ":   '2015-09,01'\n",
       "\n",
       "\n"
      ],
      "text/plain": [
       "$family\n",
       "[1] \"exponential\"\n",
       "\n",
       "$mean\n",
       "[1] 7\n",
       "\n",
       "$is.symmetric\n",
       "[1] FALSE\n",
       "\n",
       "$last.updated\n",
       "[1] \"2015-09,01\"\n"
      ]
     },
     "metadata": {},
     "output_type": "display_data"
    }
   ],
   "source": [
    "my.list[1]\n",
    "my.list = c(my.list, 9)\n",
    "my.list\n",
    "length(my.list)\n",
    "length(my.list) = 3\n",
    "my.list\n",
    "names(my.list)= c(\"family\", \"mean\",\"is.symmetric\")\n",
    "\n",
    "my.list['family']\n",
    "my.list$family\n",
    "\n",
    "another.list = list(family = \"gaussian\", mean = 7, sd = 1, is.symmetric = TRUE)\n",
    "my.list$was.estimated = FALSE\n",
    "my.list['last.updated'] = \"2015-09,01\"\n",
    "my.list\n",
    "\n",
    "my.list$was.estimated = NULL\n",
    "my.list"
   ]
  },
  {
   "cell_type": "markdown",
   "metadata": {},
   "source": [
    "\n",
    "## Key-value pairs\n",
    "\n",
    "## Data frames"
   ]
  },
  {
   "cell_type": "code",
   "execution_count": 122,
   "metadata": {},
   "outputs": [
    {
     "data": {
      "text/html": [
       "<ol class=list-inline>\n",
       "\t<li>35</li>\n",
       "\t<li>8</li>\n",
       "</ol>\n"
      ],
      "text/latex": [
       "\\begin{enumerate*}\n",
       "\\item 35\n",
       "\\item 8\n",
       "\\end{enumerate*}\n"
      ],
      "text/markdown": [
       "1. 35\n",
       "2. 8\n",
       "\n",
       "\n"
      ],
      "text/plain": [
       "[1] 35  8"
      ]
     },
     "metadata": {},
     "output_type": "display_data"
    },
    {
     "data": {
      "text/html": [
       "<table>\n",
       "<thead><tr><th scope=col>v1</th><th scope=col>v2</th><th scope=col>logicals</th></tr></thead>\n",
       "<tbody>\n",
       "\t<tr><td>35   </td><td>10   </td><td> TRUE</td></tr>\n",
       "\t<tr><td> 8   </td><td> 4   </td><td>FALSE</td></tr>\n",
       "</tbody>\n",
       "</table>\n"
      ],
      "text/latex": [
       "\\begin{tabular}{r|lll}\n",
       " v1 & v2 & logicals\\\\\n",
       "\\hline\n",
       "\t 35    & 10    &  TRUE\\\\\n",
       "\t  8    &  4    & FALSE\\\\\n",
       "\\end{tabular}\n"
      ],
      "text/markdown": [
       "\n",
       "v1 | v2 | logicals | \n",
       "|---|---|\n",
       "| 35    | 10    |  TRUE | \n",
       "|  8    |  4    | FALSE | \n",
       "\n",
       "\n"
      ],
      "text/plain": [
       "  v1 v2 logicals\n",
       "1 35 10  TRUE   \n",
       "2  8  4 FALSE   "
      ]
     },
     "metadata": {},
     "output_type": "display_data"
    },
    {
     "data": {
      "text/html": [
       "<ol class=list-inline>\n",
       "\t<li>35</li>\n",
       "\t<li>8</li>\n",
       "</ol>\n"
      ],
      "text/latex": [
       "\\begin{enumerate*}\n",
       "\\item 35\n",
       "\\item 8\n",
       "\\end{enumerate*}\n"
      ],
      "text/markdown": [
       "1. 35\n",
       "2. 8\n",
       "\n",
       "\n"
      ],
      "text/plain": [
       "[1] 35  8"
      ]
     },
     "metadata": {},
     "output_type": "display_data"
    },
    {
     "data": {
      "text/html": [
       "<ol class=list-inline>\n",
       "\t<li>35</li>\n",
       "\t<li>8</li>\n",
       "</ol>\n"
      ],
      "text/latex": [
       "\\begin{enumerate*}\n",
       "\\item 35\n",
       "\\item 8\n",
       "\\end{enumerate*}\n"
      ],
      "text/markdown": [
       "1. 35\n",
       "2. 8\n",
       "\n",
       "\n"
      ],
      "text/plain": [
       "[1] 35  8"
      ]
     },
     "metadata": {},
     "output_type": "display_data"
    },
    {
     "data": {
      "text/html": [
       "<table>\n",
       "<thead><tr><th scope=col>v1</th><th scope=col>v2</th><th scope=col>logicals</th></tr></thead>\n",
       "<tbody>\n",
       "\t<tr><td>35  </td><td>10  </td><td>TRUE</td></tr>\n",
       "</tbody>\n",
       "</table>\n"
      ],
      "text/latex": [
       "\\begin{tabular}{r|lll}\n",
       " v1 & v2 & logicals\\\\\n",
       "\\hline\n",
       "\t 35   & 10   & TRUE\\\\\n",
       "\\end{tabular}\n"
      ],
      "text/markdown": [
       "\n",
       "v1 | v2 | logicals | \n",
       "|---|\n",
       "| 35   | 10   | TRUE | \n",
       "\n",
       "\n"
      ],
      "text/plain": [
       "  v1 v2 logicals\n",
       "1 35 10 TRUE    "
      ]
     },
     "metadata": {},
     "output_type": "display_data"
    },
    {
     "data": {
      "text/html": [
       "<dl class=dl-horizontal>\n",
       "\t<dt>v1</dt>\n",
       "\t\t<dd>21.5</dd>\n",
       "\t<dt>v2</dt>\n",
       "\t\t<dd>7</dd>\n",
       "\t<dt>logicals</dt>\n",
       "\t\t<dd>0.5</dd>\n",
       "</dl>\n"
      ],
      "text/latex": [
       "\\begin{description*}\n",
       "\\item[v1] 21.5\n",
       "\\item[v2] 7\n",
       "\\item[logicals] 0.5\n",
       "\\end{description*}\n"
      ],
      "text/markdown": [
       "v1\n",
       ":   21.5v2\n",
       ":   7logicals\n",
       ":   0.5\n",
       "\n"
      ],
      "text/plain": [
       "      v1       v2 logicals \n",
       "    21.5      7.0      0.5 "
      ]
     },
     "metadata": {},
     "output_type": "display_data"
    }
   ],
   "source": [
    "a.mat = matrix(c(35,8,10,4), nrow = 2)\n",
    "colnames(a.mat)= c(\"v1\",\"v2\")\n",
    "a.mat[,\"v1\"]\n",
    "\n",
    "a.df = data.frame(a.mat, logicals = c(TRUE,FALSE))\n",
    "a.df\n",
    "a.df$v1\n",
    "a.df[,\"v1\"]\n",
    "a.df[1,]\n",
    "colMeans(a.df)"
   ]
  },
  {
   "cell_type": "markdown",
   "metadata": {},
   "source": [
    "#### Adding rows and columns"
   ]
  },
  {
   "cell_type": "code",
   "execution_count": 124,
   "metadata": {},
   "outputs": [
    {
     "data": {
      "text/html": [
       "<table>\n",
       "<thead><tr><th scope=col>v1</th><th scope=col>v2</th><th scope=col>logicals</th></tr></thead>\n",
       "<tbody>\n",
       "\t<tr><td>35   </td><td>10   </td><td> TRUE</td></tr>\n",
       "\t<tr><td> 8   </td><td> 4   </td><td>FALSE</td></tr>\n",
       "\t<tr><td>-3   </td><td>-5   </td><td> TRUE</td></tr>\n",
       "</tbody>\n",
       "</table>\n"
      ],
      "text/latex": [
       "\\begin{tabular}{r|lll}\n",
       " v1 & v2 & logicals\\\\\n",
       "\\hline\n",
       "\t 35    & 10    &  TRUE\\\\\n",
       "\t  8    &  4    & FALSE\\\\\n",
       "\t -3    & -5    &  TRUE\\\\\n",
       "\\end{tabular}\n"
      ],
      "text/markdown": [
       "\n",
       "v1 | v2 | logicals | \n",
       "|---|---|---|\n",
       "| 35    | 10    |  TRUE | \n",
       "|  8    |  4    | FALSE | \n",
       "| -3    | -5    |  TRUE | \n",
       "\n",
       "\n"
      ],
      "text/plain": [
       "  v1 v2 logicals\n",
       "1 35 10  TRUE   \n",
       "2  8  4 FALSE   \n",
       "3 -3 -5  TRUE   "
      ]
     },
     "metadata": {},
     "output_type": "display_data"
    },
    {
     "data": {
      "text/html": [
       "<table>\n",
       "<thead><tr><th scope=col>v1</th><th scope=col>v2</th><th scope=col>logicals</th></tr></thead>\n",
       "<tbody>\n",
       "\t<tr><td>35</td><td>10</td><td>1 </td></tr>\n",
       "\t<tr><td> 8</td><td> 4</td><td>0 </td></tr>\n",
       "\t<tr><td> 3</td><td> 4</td><td>6 </td></tr>\n",
       "</tbody>\n",
       "</table>\n"
      ],
      "text/latex": [
       "\\begin{tabular}{r|lll}\n",
       " v1 & v2 & logicals\\\\\n",
       "\\hline\n",
       "\t 35 & 10 & 1 \\\\\n",
       "\t  8 &  4 & 0 \\\\\n",
       "\t  3 &  4 & 6 \\\\\n",
       "\\end{tabular}\n"
      ],
      "text/markdown": [
       "\n",
       "v1 | v2 | logicals | \n",
       "|---|---|---|\n",
       "| 35 | 10 | 1  | \n",
       "|  8 |  4 | 0  | \n",
       "|  3 |  4 | 6  | \n",
       "\n",
       "\n"
      ],
      "text/plain": [
       "  v1 v2 logicals\n",
       "1 35 10 1       \n",
       "2  8  4 0       \n",
       "3  3  4 6       "
      ]
     },
     "metadata": {},
     "output_type": "display_data"
    }
   ],
   "source": [
    "rbind(a.df, list(v1 = -3, v2 = -5, logicals = TRUE))\n",
    "rbind(a.df, c(3,4,6))\n"
   ]
  }
 ],
 "metadata": {
  "kernelspec": {
   "display_name": "R",
   "language": "R",
   "name": "ir"
  },
  "language_info": {
   "codemirror_mode": "r",
   "file_extension": ".r",
   "mimetype": "text/x-r-source",
   "name": "R",
   "pygments_lexer": "r",
   "version": "3.4.1"
  }
 },
 "nbformat": 4,
 "nbformat_minor": 2
}
