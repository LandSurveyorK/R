{
 "cells": [
  {
   "cell_type": "markdown",
   "metadata": {},
   "source": [
    "## Some simple manipulations"
   ]
  },
  {
   "cell_type": "code",
   "execution_count": 1,
   "metadata": {},
   "outputs": [
    {
     "data": {
      "text/html": [
       "<ol class=list-inline>\n",
       "\t<li>4</li>\n",
       "\t<li>4</li>\n",
       "\t<li>6</li>\n",
       "\t<li>5</li>\n",
       "\t<li>8</li>\n",
       "\t<li>4</li>\n",
       "\t<li>5</li>\n",
       "\t<li>6</li>\n",
       "\t<li>4</li>\n",
       "\t<li>9</li>\n",
       "\t<li>6</li>\n",
       "\t<li>4</li>\n",
       "\t<li>4</li>\n",
       "\t<li>7</li>\n",
       "\t<li>5</li>\n",
       "\t<li>8</li>\n",
       "\t<li>6</li>\n",
       "\t<li>2</li>\n",
       "\t<li>5</li>\n",
       "\t<li>6</li>\n",
       "</ol>\n"
      ],
      "text/latex": [
       "\\begin{enumerate*}\n",
       "\\item 4\n",
       "\\item 4\n",
       "\\item 6\n",
       "\\item 5\n",
       "\\item 8\n",
       "\\item 4\n",
       "\\item 5\n",
       "\\item 6\n",
       "\\item 4\n",
       "\\item 9\n",
       "\\item 6\n",
       "\\item 4\n",
       "\\item 4\n",
       "\\item 7\n",
       "\\item 5\n",
       "\\item 8\n",
       "\\item 6\n",
       "\\item 2\n",
       "\\item 5\n",
       "\\item 6\n",
       "\\end{enumerate*}\n"
      ],
      "text/markdown": [
       "1. 4\n",
       "2. 4\n",
       "3. 6\n",
       "4. 5\n",
       "5. 8\n",
       "6. 4\n",
       "7. 5\n",
       "8. 6\n",
       "9. 4\n",
       "10. 9\n",
       "11. 6\n",
       "12. 4\n",
       "13. 4\n",
       "14. 7\n",
       "15. 5\n",
       "16. 8\n",
       "17. 6\n",
       "18. 2\n",
       "19. 5\n",
       "20. 6\n",
       "\n",
       "\n"
      ],
      "text/plain": [
       " [1] 4 4 6 5 8 4 5 6 4 9 6 4 4 7 5 8 6 2 5 6"
      ]
     },
     "metadata": {},
     "output_type": "display_data"
    },
    {
     "data": {
      "text/html": [
       "<ol class=list-inline>\n",
       "\t<li>6</li>\n",
       "\t<li>8</li>\n",
       "\t<li>7</li>\n",
       "\t<li>5</li>\n",
       "\t<li>8</li>\n",
       "\t<li>4</li>\n",
       "\t<li>6</li>\n",
       "\t<li>6</li>\n",
       "\t<li>7</li>\n",
       "\t<li>3</li>\n",
       "</ol>\n"
      ],
      "text/latex": [
       "\\begin{enumerate*}\n",
       "\\item 6\n",
       "\\item 8\n",
       "\\item 7\n",
       "\\item 5\n",
       "\\item 8\n",
       "\\item 4\n",
       "\\item 6\n",
       "\\item 6\n",
       "\\item 7\n",
       "\\item 3\n",
       "\\end{enumerate*}\n"
      ],
      "text/markdown": [
       "1. 6\n",
       "2. 8\n",
       "3. 7\n",
       "4. 5\n",
       "5. 8\n",
       "6. 4\n",
       "7. 6\n",
       "8. 6\n",
       "9. 7\n",
       "10. 3\n",
       "\n",
       "\n"
      ],
      "text/plain": [
       " [1] 6 8 7 5 8 4 6 6 7 3"
      ]
     },
     "metadata": {},
     "output_type": "display_data"
    },
    {
     "data": {
      "text/html": [
       "<ol class=list-inline>\n",
       "\t<li>6</li>\n",
       "\t<li>8</li>\n",
       "\t<li>7</li>\n",
       "\t<li>5</li>\n",
       "\t<li>8</li>\n",
       "\t<li>4</li>\n",
       "\t<li>6</li>\n",
       "\t<li>6</li>\n",
       "\t<li>7</li>\n",
       "\t<li>3</li>\n",
       "\t<li>4</li>\n",
       "\t<li>7</li>\n",
       "\t<li>4</li>\n",
       "\t<li>4</li>\n",
       "\t<li>3</li>\n",
       "\t<li>5</li>\n",
       "\t<li>6</li>\n",
       "\t<li>3</li>\n",
       "\t<li>4</li>\n",
       "\t<li>5</li>\n",
       "\t<li>5</li>\n",
       "\t<li>3</li>\n",
       "\t<li>4</li>\n",
       "\t<li>5</li>\n",
       "\t<li>6</li>\n",
       "\t<li>4</li>\n",
       "\t<li>3</li>\n",
       "\t<li>3</li>\n",
       "\t<li>4</li>\n",
       "\t<li>4</li>\n",
       "\t<li>6</li>\n",
       "\t<li>5</li>\n",
       "\t<li>4</li>\n",
       "\t<li>5</li>\n",
       "\t<li>5</li>\n",
       "\t<li>7</li>\n",
       "\t<li>4</li>\n",
       "\t<li>3</li>\n",
       "\t<li>5</li>\n",
       "\t<li>5</li>\n",
       "\t<li>7</li>\n",
       "\t<li>4</li>\n",
       "\t<li>3</li>\n",
       "\t<li>2</li>\n",
       "\t<li>6</li>\n",
       "\t<li>6</li>\n",
       "\t<li>6</li>\n",
       "\t<li>6</li>\n",
       "\t<li>6</li>\n",
       "\t<li>5</li>\n",
       "\t<li>7</li>\n",
       "\t<li>7</li>\n",
       "\t<li>5</li>\n",
       "\t<li>5</li>\n",
       "\t<li>6</li>\n",
       "\t<li>2</li>\n",
       "\t<li>5</li>\n",
       "\t<li>6</li>\n",
       "\t<li>6</li>\n",
       "\t<li>5</li>\n",
       "\t<li>7</li>\n",
       "\t<li>6</li>\n",
       "\t<li>8</li>\n",
       "\t<li>6</li>\n",
       "\t<li>8</li>\n",
       "\t<li>6</li>\n",
       "\t<li>5</li>\n",
       "\t<li>2</li>\n",
       "\t<li>6</li>\n",
       "\t<li>7</li>\n",
       "\t<li>5</li>\n",
       "\t<li>8</li>\n",
       "\t<li>5</li>\n",
       "\t<li>4</li>\n",
       "\t<li>5</li>\n",
       "\t<li>6</li>\n",
       "\t<li>7</li>\n",
       "\t<li>4</li>\n",
       "\t<li>6</li>\n",
       "\t<li>4</li>\n",
       "\t<li>6</li>\n",
       "\t<li>5</li>\n",
       "\t<li>4</li>\n",
       "\t<li>3</li>\n",
       "\t<li>3</li>\n",
       "\t<li>5</li>\n",
       "\t<li>5</li>\n",
       "\t<li>5</li>\n",
       "\t<li>3</li>\n",
       "\t<li>3</li>\n",
       "\t<li>4</li>\n",
       "\t<li>5</li>\n",
       "\t<li>4</li>\n",
       "\t<li>5</li>\n",
       "\t<li>3</li>\n",
       "\t<li>6</li>\n",
       "\t<li>3</li>\n",
       "\t<li>6</li>\n",
       "\t<li>6</li>\n",
       "\t<li>3</li>\n",
       "\t<li>6</li>\n",
       "\t<li>9</li>\n",
       "\t<li>3</li>\n",
       "\t<li>5</li>\n",
       "\t<li>4</li>\n",
       "\t<li>3</li>\n",
       "\t<li>2</li>\n",
       "\t<li>5</li>\n",
       "\t<li>4</li>\n",
       "\t<li>5</li>\n",
       "\t<li>6</li>\n",
       "\t<li>4</li>\n",
       "\t<li>2</li>\n",
       "\t<li>4</li>\n",
       "\t<li>3</li>\n",
       "\t<li>5</li>\n",
       "\t<li>5</li>\n",
       "\t<li>6</li>\n",
       "\t<li>8</li>\n",
       "\t<li>6</li>\n",
       "\t<li>8</li>\n",
       "\t<li>4</li>\n",
       "\t<li>6</li>\n",
       "\t<li>4</li>\n",
       "\t<li>4</li>\n",
       "\t<li>5</li>\n",
       "\t<li>6</li>\n",
       "\t<li>6</li>\n",
       "\t<li>6</li>\n",
       "\t<li>5</li>\n",
       "\t<li>6</li>\n",
       "\t<li>6</li>\n",
       "\t<li>2</li>\n",
       "\t<li>8</li>\n",
       "\t<li>8</li>\n",
       "\t<li>8</li>\n",
       "\t<li>5</li>\n",
       "\t<li>7</li>\n",
       "\t<li>7</li>\n",
       "\t<li>6</li>\n",
       "\t<li>4</li>\n",
       "\t<li>3</li>\n",
       "\t<li>3</li>\n",
       "\t<li>8</li>\n",
       "\t<li>6</li>\n",
       "\t<li>6</li>\n",
       "\t<li>5</li>\n",
       "\t<li>5</li>\n",
       "\t<li>5</li>\n",
       "\t<li>4</li>\n",
       "\t<li>9</li>\n",
       "\t<li>4</li>\n",
       "\t<li>5</li>\n",
       "\t<li>4</li>\n",
       "\t<li>5</li>\n",
       "\t<li>6</li>\n",
       "\t<li>4</li>\n",
       "\t<li>8</li>\n",
       "\t<li>7</li>\n",
       "\t<li>4</li>\n",
       "\t<li>3</li>\n",
       "\t<li>8</li>\n",
       "\t<li>3</li>\n",
       "\t<li>5</li>\n",
       "\t<li>6</li>\n",
       "\t<li>5</li>\n",
       "\t<li>6</li>\n",
       "\t<li>7</li>\n",
       "\t<li>5</li>\n",
       "\t<li>5</li>\n",
       "\t<li>7</li>\n",
       "\t<li>6</li>\n",
       "\t<li>3</li>\n",
       "\t<li>4</li>\n",
       "\t<li>3</li>\n",
       "\t<li>6</li>\n",
       "\t<li>4</li>\n",
       "\t<li>4</li>\n",
       "\t<li>6</li>\n",
       "\t<li>6</li>\n",
       "\t<li>4</li>\n",
       "\t<li>6</li>\n",
       "\t<li>8</li>\n",
       "\t<li>6</li>\n",
       "\t<li>5</li>\n",
       "\t<li>3</li>\n",
       "\t<li>5</li>\n",
       "\t<li>3</li>\n",
       "\t<li>4</li>\n",
       "\t<li>5</li>\n",
       "\t<li>5</li>\n",
       "\t<li>5</li>\n",
       "\t<li>4</li>\n",
       "\t<li>3</li>\n",
       "\t<li>6</li>\n",
       "\t<li>7</li>\n",
       "\t<li>5</li>\n",
       "\t<li>3</li>\n",
       "\t<li>4</li>\n",
       "\t<li>4</li>\n",
       "</ol>\n"
      ],
      "text/latex": [
       "\\begin{enumerate*}\n",
       "\\item 6\n",
       "\\item 8\n",
       "\\item 7\n",
       "\\item 5\n",
       "\\item 8\n",
       "\\item 4\n",
       "\\item 6\n",
       "\\item 6\n",
       "\\item 7\n",
       "\\item 3\n",
       "\\item 4\n",
       "\\item 7\n",
       "\\item 4\n",
       "\\item 4\n",
       "\\item 3\n",
       "\\item 5\n",
       "\\item 6\n",
       "\\item 3\n",
       "\\item 4\n",
       "\\item 5\n",
       "\\item 5\n",
       "\\item 3\n",
       "\\item 4\n",
       "\\item 5\n",
       "\\item 6\n",
       "\\item 4\n",
       "\\item 3\n",
       "\\item 3\n",
       "\\item 4\n",
       "\\item 4\n",
       "\\item 6\n",
       "\\item 5\n",
       "\\item 4\n",
       "\\item 5\n",
       "\\item 5\n",
       "\\item 7\n",
       "\\item 4\n",
       "\\item 3\n",
       "\\item 5\n",
       "\\item 5\n",
       "\\item 7\n",
       "\\item 4\n",
       "\\item 3\n",
       "\\item 2\n",
       "\\item 6\n",
       "\\item 6\n",
       "\\item 6\n",
       "\\item 6\n",
       "\\item 6\n",
       "\\item 5\n",
       "\\item 7\n",
       "\\item 7\n",
       "\\item 5\n",
       "\\item 5\n",
       "\\item 6\n",
       "\\item 2\n",
       "\\item 5\n",
       "\\item 6\n",
       "\\item 6\n",
       "\\item 5\n",
       "\\item 7\n",
       "\\item 6\n",
       "\\item 8\n",
       "\\item 6\n",
       "\\item 8\n",
       "\\item 6\n",
       "\\item 5\n",
       "\\item 2\n",
       "\\item 6\n",
       "\\item 7\n",
       "\\item 5\n",
       "\\item 8\n",
       "\\item 5\n",
       "\\item 4\n",
       "\\item 5\n",
       "\\item 6\n",
       "\\item 7\n",
       "\\item 4\n",
       "\\item 6\n",
       "\\item 4\n",
       "\\item 6\n",
       "\\item 5\n",
       "\\item 4\n",
       "\\item 3\n",
       "\\item 3\n",
       "\\item 5\n",
       "\\item 5\n",
       "\\item 5\n",
       "\\item 3\n",
       "\\item 3\n",
       "\\item 4\n",
       "\\item 5\n",
       "\\item 4\n",
       "\\item 5\n",
       "\\item 3\n",
       "\\item 6\n",
       "\\item 3\n",
       "\\item 6\n",
       "\\item 6\n",
       "\\item 3\n",
       "\\item 6\n",
       "\\item 9\n",
       "\\item 3\n",
       "\\item 5\n",
       "\\item 4\n",
       "\\item 3\n",
       "\\item 2\n",
       "\\item 5\n",
       "\\item 4\n",
       "\\item 5\n",
       "\\item 6\n",
       "\\item 4\n",
       "\\item 2\n",
       "\\item 4\n",
       "\\item 3\n",
       "\\item 5\n",
       "\\item 5\n",
       "\\item 6\n",
       "\\item 8\n",
       "\\item 6\n",
       "\\item 8\n",
       "\\item 4\n",
       "\\item 6\n",
       "\\item 4\n",
       "\\item 4\n",
       "\\item 5\n",
       "\\item 6\n",
       "\\item 6\n",
       "\\item 6\n",
       "\\item 5\n",
       "\\item 6\n",
       "\\item 6\n",
       "\\item 2\n",
       "\\item 8\n",
       "\\item 8\n",
       "\\item 8\n",
       "\\item 5\n",
       "\\item 7\n",
       "\\item 7\n",
       "\\item 6\n",
       "\\item 4\n",
       "\\item 3\n",
       "\\item 3\n",
       "\\item 8\n",
       "\\item 6\n",
       "\\item 6\n",
       "\\item 5\n",
       "\\item 5\n",
       "\\item 5\n",
       "\\item 4\n",
       "\\item 9\n",
       "\\item 4\n",
       "\\item 5\n",
       "\\item 4\n",
       "\\item 5\n",
       "\\item 6\n",
       "\\item 4\n",
       "\\item 8\n",
       "\\item 7\n",
       "\\item 4\n",
       "\\item 3\n",
       "\\item 8\n",
       "\\item 3\n",
       "\\item 5\n",
       "\\item 6\n",
       "\\item 5\n",
       "\\item 6\n",
       "\\item 7\n",
       "\\item 5\n",
       "\\item 5\n",
       "\\item 7\n",
       "\\item 6\n",
       "\\item 3\n",
       "\\item 4\n",
       "\\item 3\n",
       "\\item 6\n",
       "\\item 4\n",
       "\\item 4\n",
       "\\item 6\n",
       "\\item 6\n",
       "\\item 4\n",
       "\\item 6\n",
       "\\item 8\n",
       "\\item 6\n",
       "\\item 5\n",
       "\\item 3\n",
       "\\item 5\n",
       "\\item 3\n",
       "\\item 4\n",
       "\\item 5\n",
       "\\item 5\n",
       "\\item 5\n",
       "\\item 4\n",
       "\\item 3\n",
       "\\item 6\n",
       "\\item 7\n",
       "\\item 5\n",
       "\\item 3\n",
       "\\item 4\n",
       "\\item 4\n",
       "\\end{enumerate*}\n"
      ],
      "text/markdown": [
       "1. 6\n",
       "2. 8\n",
       "3. 7\n",
       "4. 5\n",
       "5. 8\n",
       "6. 4\n",
       "7. 6\n",
       "8. 6\n",
       "9. 7\n",
       "10. 3\n",
       "11. 4\n",
       "12. 7\n",
       "13. 4\n",
       "14. 4\n",
       "15. 3\n",
       "16. 5\n",
       "17. 6\n",
       "18. 3\n",
       "19. 4\n",
       "20. 5\n",
       "21. 5\n",
       "22. 3\n",
       "23. 4\n",
       "24. 5\n",
       "25. 6\n",
       "26. 4\n",
       "27. 3\n",
       "28. 3\n",
       "29. 4\n",
       "30. 4\n",
       "31. 6\n",
       "32. 5\n",
       "33. 4\n",
       "34. 5\n",
       "35. 5\n",
       "36. 7\n",
       "37. 4\n",
       "38. 3\n",
       "39. 5\n",
       "40. 5\n",
       "41. 7\n",
       "42. 4\n",
       "43. 3\n",
       "44. 2\n",
       "45. 6\n",
       "46. 6\n",
       "47. 6\n",
       "48. 6\n",
       "49. 6\n",
       "50. 5\n",
       "51. 7\n",
       "52. 7\n",
       "53. 5\n",
       "54. 5\n",
       "55. 6\n",
       "56. 2\n",
       "57. 5\n",
       "58. 6\n",
       "59. 6\n",
       "60. 5\n",
       "61. 7\n",
       "62. 6\n",
       "63. 8\n",
       "64. 6\n",
       "65. 8\n",
       "66. 6\n",
       "67. 5\n",
       "68. 2\n",
       "69. 6\n",
       "70. 7\n",
       "71. 5\n",
       "72. 8\n",
       "73. 5\n",
       "74. 4\n",
       "75. 5\n",
       "76. 6\n",
       "77. 7\n",
       "78. 4\n",
       "79. 6\n",
       "80. 4\n",
       "81. 6\n",
       "82. 5\n",
       "83. 4\n",
       "84. 3\n",
       "85. 3\n",
       "86. 5\n",
       "87. 5\n",
       "88. 5\n",
       "89. 3\n",
       "90. 3\n",
       "91. 4\n",
       "92. 5\n",
       "93. 4\n",
       "94. 5\n",
       "95. 3\n",
       "96. 6\n",
       "97. 3\n",
       "98. 6\n",
       "99. 6\n",
       "100. 3\n",
       "101. 6\n",
       "102. 9\n",
       "103. 3\n",
       "104. 5\n",
       "105. 4\n",
       "106. 3\n",
       "107. 2\n",
       "108. 5\n",
       "109. 4\n",
       "110. 5\n",
       "111. 6\n",
       "112. 4\n",
       "113. 2\n",
       "114. 4\n",
       "115. 3\n",
       "116. 5\n",
       "117. 5\n",
       "118. 6\n",
       "119. 8\n",
       "120. 6\n",
       "121. 8\n",
       "122. 4\n",
       "123. 6\n",
       "124. 4\n",
       "125. 4\n",
       "126. 5\n",
       "127. 6\n",
       "128. 6\n",
       "129. 6\n",
       "130. 5\n",
       "131. 6\n",
       "132. 6\n",
       "133. 2\n",
       "134. 8\n",
       "135. 8\n",
       "136. 8\n",
       "137. 5\n",
       "138. 7\n",
       "139. 7\n",
       "140. 6\n",
       "141. 4\n",
       "142. 3\n",
       "143. 3\n",
       "144. 8\n",
       "145. 6\n",
       "146. 6\n",
       "147. 5\n",
       "148. 5\n",
       "149. 5\n",
       "150. 4\n",
       "151. 9\n",
       "152. 4\n",
       "153. 5\n",
       "154. 4\n",
       "155. 5\n",
       "156. 6\n",
       "157. 4\n",
       "158. 8\n",
       "159. 7\n",
       "160. 4\n",
       "161. 3\n",
       "162. 8\n",
       "163. 3\n",
       "164. 5\n",
       "165. 6\n",
       "166. 5\n",
       "167. 6\n",
       "168. 7\n",
       "169. 5\n",
       "170. 5\n",
       "171. 7\n",
       "172. 6\n",
       "173. 3\n",
       "174. 4\n",
       "175. 3\n",
       "176. 6\n",
       "177. 4\n",
       "178. 4\n",
       "179. 6\n",
       "180. 6\n",
       "181. 4\n",
       "182. 6\n",
       "183. 8\n",
       "184. 6\n",
       "185. 5\n",
       "186. 3\n",
       "187. 5\n",
       "188. 3\n",
       "189. 4\n",
       "190. 5\n",
       "191. 5\n",
       "192. 5\n",
       "193. 4\n",
       "194. 3\n",
       "195. 6\n",
       "196. 7\n",
       "197. 5\n",
       "198. 3\n",
       "199. 4\n",
       "200. 4\n",
       "\n",
       "\n"
      ],
      "text/plain": [
       "  [1] 6 8 7 5 8 4 6 6 7 3 4 7 4 4 3 5 6 3 4 5 5 3 4 5 6 4 3 3 4 4 6 5 4 5 5 7 4\n",
       " [38] 3 5 5 7 4 3 2 6 6 6 6 6 5 7 7 5 5 6 2 5 6 6 5 7 6 8 6 8 6 5 2 6 7 5 8 5 4\n",
       " [75] 5 6 7 4 6 4 6 5 4 3 3 5 5 5 3 3 4 5 4 5 3 6 3 6 6 3 6 9 3 5 4 3 2 5 4 5 6\n",
       "[112] 4 2 4 3 5 5 6 8 6 8 4 6 4 4 5 6 6 6 5 6 6 2 8 8 8 5 7 7 6 4 3 3 8 6 6 5 5\n",
       "[149] 5 4 9 4 5 4 5 6 4 8 7 4 3 8 3 5 6 5 6 7 5 5 7 6 3 4 3 6 4 4 6 6 4 6 8 6 5\n",
       "[186] 3 5 3 4 5 5 5 4 3 6 7 5 3 4 4"
      ]
     },
     "metadata": {},
     "output_type": "display_data"
    },
    {
     "data": {
      "text/html": [
       "6"
      ],
      "text/latex": [
       "6"
      ],
      "text/markdown": [
       "6"
      ],
      "text/plain": [
       "[1] 6"
      ]
     },
     "metadata": {},
     "output_type": "display_data"
    },
    {
     "data": {
      "text/html": [
       "FALSE"
      ],
      "text/latex": [
       "FALSE"
      ],
      "text/markdown": [
       "FALSE"
      ],
      "text/plain": [
       "[1] FALSE"
      ]
     },
     "metadata": {},
     "output_type": "display_data"
    },
    {
     "data": {
      "text/html": [
       "48"
      ],
      "text/latex": [
       "48"
      ],
      "text/markdown": [
       "48"
      ],
      "text/plain": [
       "[1] 48"
      ]
     },
     "metadata": {},
     "output_type": "display_data"
    },
    {
     "data": {
      "text/plain": [
       "   Min. 1st Qu.  Median    Mean 3rd Qu.    Max. \n",
       "   2.00    4.00    5.00    5.08    6.00    9.00 "
      ]
     },
     "metadata": {},
     "output_type": "display_data"
    },
    {
     "data": {
      "text/html": [
       "'integer'"
      ],
      "text/latex": [
       "'integer'"
      ],
      "text/markdown": [
       "'integer'"
      ],
      "text/plain": [
       "[1] \"integer\""
      ]
     },
     "metadata": {},
     "output_type": "display_data"
    },
    {
     "data": {
      "text/html": [
       "'character'"
      ],
      "text/latex": [
       "'character'"
      ],
      "text/markdown": [
       "'character'"
      ],
      "text/plain": [
       "[1] \"character\""
      ]
     },
     "metadata": {},
     "output_type": "display_data"
    },
    {
     "data": {
      "text/plain": [
       "   Length     Class      Mode \n",
       "      200 character character "
      ]
     },
     "metadata": {},
     "output_type": "display_data"
    }
   ],
   "source": [
    "set.seed(01182018)\n",
    "rbinom(n=20, size=10, prob=0.5)\n",
    "bin.draws.0.5 = rbinom(n=200, size=10, prob=0.5)\n",
    "bin.draws.0.5[seq(1,10)]\n",
    "bin.draws.0.5[-275]\n",
    "\n",
    "bin.draws.0.5[7]\n",
    "bin.draws.0.5[2] > bin.draws.0.5[5]\n",
    "equal5 = which(bin.draws.0.5 == 5)\n",
    "length(equal5)\n",
    "summary(bin.draws.0.5)\n",
    "typeof(bin.draws.0.5)\n",
    "bin.draws.0.5.char = as.character(bin.draws.0.5)\n",
    "typeof(bin.draws.0.5.char)\n",
    "summary(bin.draws.0.5.char)"
   ]
  },
  {
   "cell_type": "markdown",
   "metadata": {},
   "source": [
    "## Some simple plots"
   ]
  },
  {
   "cell_type": "code",
   "execution_count": null,
   "metadata": {},
   "outputs": [],
   "source": [
    "plot(bin.draws.0.5)\n",
    "hist(bin.draws.0.5)\n",
    "tabulate(bin.draws.0.5)\n",
    "\n",
    "plot(1:200, bin.draws.0.5)\n",
    "\n"
   ]
  },
  {
   "cell_type": "markdown",
   "metadata": {},
   "source": [
    "## More binomials, more plots"
   ]
  },
  {
   "cell_type": "code",
   "execution_count": null,
   "metadata": {},
   "outputs": [],
   "source": [
    "bin.draws.0.2 = rbinom(n=200, size=12, prob=0.2)\n",
    "mean(bin.draws.0.2)\n",
    "sd(bin.draws.0.2)\n",
    "bin.draws.0.3 = rbinom(n=200, size=12, prob=0.3)\n",
    "bin.draws.0.4 = rbinom(n=200, size=12, prob=0.4)\n",
    "bin.draws.0.5 = rbinom(n=200, size=12, prob=0.5)\n",
    "bin.draws.0.6 = rbinom(n=200, size=12, prob=0.6)\n",
    "bin.draws.0.7 = rbinom(n=200, size=12, prob=0.7)\n",
    "bin.draws.0.8 = rbinom(n=200, size=12, prob=0.8)\n",
    "\n",
    "means = c(mean(bin.draws.0.2),mean(bin.draws.0.3),\n",
    "      mean(bin.draws.0.4),mean(bin.draws.0.5),\n",
    "      mean(bin.draws.0.6),mean(bin.draws.0.7),\n",
    "      mean(bin.draws.0.8))\n",
    "sds = c(sd(bin.draws.0.2),sd(bin.draws.0.3),sd(bin.draws.0.4),sd(bin.draws.0.5),\n",
    "       sd(bin.draws.0.6),sd(bin.draws.0.7),sd(bin.draws.0.8))\n",
    "p = c(0.2,0.3,0.4,0.5,0.6,0.7,0.8)\n",
    "plot(p,means)\n",
    "plot(p,sds)\n",
    "plot(means,sds)"
   ]
  },
  {
   "cell_type": "markdown",
   "metadata": {},
   "source": [
    "## Working with matrices"
   ]
  },
  {
   "cell_type": "code",
   "execution_count": null,
   "metadata": {},
   "outputs": [],
   "source": [
    "bin.matrix = cbind(bin.draws.0.2 ,bin.draws.0.3,bin.draws.0.4,\n",
    "                   bin.draws.0.5,bin.draws.0.6,\n",
    "                  bin.draws.0.7,bin.draws.0.8)\n",
    "bin.matrix[c(1,2,3),]\n",
    "bin.matrix[77,6]\n",
    "\n",
    "max(bin.matrix[,1])\n",
    "max(bin.matrix[,1][-1])\n",
    "colMeans(bin.matrix)\n",
    "identical(colMeans(bin.matrix), means)\n",
    "all.equal(colMeans(bin.matrix), means)\n",
    "\n",
    "t(bin.matrix)\n",
    "rowMeans(t(bin.matrix))\n"
   ]
  },
  {
   "cell_type": "markdown",
   "metadata": {},
   "source": [
    "## Warnup up  is over, let's go big"
   ]
  },
  {
   "cell_type": "code",
   "execution_count": 2,
   "metadata": {},
   "outputs": [
    {
     "data": {
      "text/html": [
       "2.35562947282011e-14"
      ],
      "text/latex": [
       "2.35562947282011e-14"
      ],
      "text/markdown": [
       "2.35562947282011e-14"
      ],
      "text/plain": [
       "[1] 2.355629e-14"
      ]
     },
     "metadata": {},
     "output_type": "display_data"
    },
    {
     "data": {
      "text/html": [
       "1"
      ],
      "text/latex": [
       "1"
      ],
      "text/markdown": [
       "1"
      ],
      "text/plain": [
       "[1] 1"
      ]
     },
     "metadata": {},
     "output_type": "display_data"
    },
    {
     "data": {
      "text/html": [
       "0.0499999615254131"
      ],
      "text/latex": [
       "0.0499999615254131"
      ],
      "text/markdown": [
       "0.0499999615254131"
      ],
      "text/plain": [
       "[1] 0.04999996"
      ]
     },
     "metadata": {},
     "output_type": "display_data"
    },
    {
     "data": {
      "image/png": "[encoded data removed]",
      "text/plain": [
       "Plot with title \"Histogram of big.bin.draws.standardized\""
      ]
     },
     "metadata": {},
     "output_type": "display_data"
    }
   ],
   "source": [
    "big.bin.draws = rbinom(n=2*10^6, size=10^6, prob=0.5)\n",
    "mean = mean(big.bin.draws )\n",
    "sd = sd(big.bin.draws )\n",
    "\n",
    "big.bin.draws.standardized = ((big.bin.draws - mean)/sd)\n",
    "mean(big.bin.draws.standardized)\n",
    "sd(big.bin.draws.standardized)\n",
    "\n",
    "hist(big.bin.draws.standardized, breaks=100)\n",
    " 1 - pnorm(1.644854,0,1)"
   ]
  },
  {
   "cell_type": "markdown",
   "metadata": {},
   "source": [
    "## Now let'ts go really big"
   ]
  },
  {
   "cell_type": "code",
   "execution_count": 3,
   "metadata": {},
   "outputs": [],
   "source": [
    "huge.bin.draws = rbinom(n=10^8, size=10^7,50*10^(-8))"
   ]
  },
  {
   "cell_type": "code",
   "execution_count": 4,
   "metadata": {},
   "outputs": [
    {
     "data": {
      "text/html": [
       "4.99971985"
      ],
      "text/latex": [
       "4.99971985"
      ],
      "text/markdown": [
       "4.99971985"
      ],
      "text/plain": [
       "[1] 4.99972"
      ]
     },
     "metadata": {},
     "output_type": "display_data"
    },
    {
     "data": {
      "text/html": [
       "2.23598596183267"
      ],
      "text/latex": [
       "2.23598596183267"
      ],
      "text/markdown": [
       "2.23598596183267"
      ],
      "text/plain": [
       "[1] 2.235986"
      ]
     },
     "metadata": {},
     "output_type": "display_data"
    }
   ],
   "source": [
    "mean(huge.bin.draws)\n",
    "sd(huge.bin.draws)"
   ]
  },
  {
   "cell_type": "code",
   "execution_count": 5,
   "metadata": {},
   "outputs": [
    {
     "data": {
      "image/png": "[encoded data removed]",
      "text/plain": [
       "Plot with title \"Histogram of huge.bin.draws\""
      ]
     },
     "metadata": {},
     "output_type": "display_data"
    }
   ],
   "source": [
    "# exp^(median(log(huge.bin.draws)))\n",
    "hist(huge.bin.draws,breaks = 100)"
   ]
  },
  {
   "cell_type": "code",
   "execution_count": 6,
   "metadata": {},
   "outputs": [
    {
     "data": {
      "text/html": [
       "'list'"
      ],
      "text/latex": [
       "'list'"
      ],
      "text/markdown": [
       "'list'"
      ],
      "text/plain": [
       "[1] \"list\""
      ]
     },
     "metadata": {},
     "output_type": "display_data"
    },
    {
     "data": {
      "text/html": [
       "2000000"
      ],
      "text/latex": [
       "2000000"
      ],
      "text/markdown": [
       "2000000"
      ],
      "text/plain": [
       "[1] 2000000"
      ]
     },
     "metadata": {},
     "output_type": "display_data"
    }
   ],
   "source": [
    "big.bin.draws.list = as.list(big.bin.draws)\n",
    "class(big.bin.draws.list)\n",
    "length(big.bin.draws.list)"
   ]
  },
  {
   "cell_type": "code",
   "execution_count": 10,
   "metadata": {
    "collapsed": true
   },
   "outputs": [],
   "source": [
    "big.bin.draws.mean = mean(big.bin.draws)\n",
    "big.bin.draws.sd = sd(big.bin.draws)\n",
    "standardize = function(x) {\n",
    "  return((x - big.bin.draws.mean) / big.bin.draws.sd)\n",
    "}\n",
    "big.bin.draws.list.standardized.slow = lapply(big.bin.draws.list, standardize)"
   ]
  },
  {
   "cell_type": "code",
   "execution_count": 11,
   "metadata": {
    "collapsed": true
   },
   "outputs": [],
   "source": [
    "big.bin.draws.mean = mean(big.bin.draws)\n",
    "big.bin.draws.sd = sd(big.bin.draws)\n",
    "standardize.slow = function(x) {\n",
    "  return((x - mean(big.bin.draws)) / sd(big.bin.draws))\n",
    "}\n",
    "big.bin.draws.list.standardized.slow = lapply(big.bin.draws.list, standardize)"
   ]
  },
  {
   "cell_type": "code",
   "execution_count": 12,
   "metadata": {},
   "outputs": [
    {
     "data": {
      "text/plain": [
       "8000040 bytes"
      ]
     },
     "metadata": {},
     "output_type": "display_data"
    },
    {
     "data": {
      "text/plain": [
       "112000040 bytes"
      ]
     },
     "metadata": {},
     "output_type": "display_data"
    }
   ],
   "source": [
    "object.size(big.bin.draws)\n",
    "object.size(big.bin.draws.list)"
   ]
  },
  {
   "cell_type": "code",
   "execution_count": null,
   "metadata": {
    "collapsed": true
   },
   "outputs": [],
   "source": []
  }
 ],
 "metadata": {
  "kernelspec": {
   "display_name": "R",
   "language": "R",
   "name": "ir"
  },
  "language_info": {
   "codemirror_mode": "r",
   "file_extension": ".r",
   "mimetype": "text/x-r-source",
   "name": "R",
   "pygments_lexer": "r",
   "version": "3.4.1"
  }
 },
 "nbformat": 4,
 "nbformat_minor": 2
}
